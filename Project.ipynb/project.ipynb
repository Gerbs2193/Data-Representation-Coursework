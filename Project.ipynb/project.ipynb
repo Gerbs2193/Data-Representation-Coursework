{
 "cells": [
  {
   "cell_type": "markdown",
   "metadata": {},
   "source": [
    "# Project Brief - Write a program that demonstrates that you understand creating and consuming\n",
    "RESTful APIs. I will allow a lot of flexibility in this project, so that you can use it as an\n",
    "opportunity to do something that is useful for your work.\n",
    "If you cannot think of a project to do:\n",
    "Create a Web application in Flask that has a RESTful API, the application\n",
    "should link to one or more database tables.\n",
    "You should also create the web pages that can consume the API. I.e. performs\n",
    "CRUD operations on the data.\n",
    "Assessment strategy for Project Type A:\n",
    "You have flexibility as to what you do for this project. I understand that this can\n",
    "cause confusion as to what you should do, so here is a table of indicative grade\n",
    "ranges, for a Web based Project.\n",
    "Description Range\n",
    "Sample marking scheme (Web application project)\n",
    "Level 1\n",
    "A rehash of the sample project lab, I will do in\n",
    "Topic09-linking to db, but with your own data.\n",
    "I.e.:\n",
    "1. A basic Flask server that has a\n",
    "2. REST API, (to perform CRUD operations)\n",
    "3. One database table and\n",
    "4. Accompanying web interface, using AJAX\n",
    "calls, to perform these CRUD operations\n",
    "40%-45%\n",
    "Level 2 Same as 1, with more than one database table 45%-50%\n",
    "Level 3 Same as 2, with authorization (logging in) 50%-55%\n",
    "Plus\n",
    "The web page looks nice. Plus 0- 10%\n",
    "A more complicated API. Plus 0 – 10%\n",
    "Server Links to some third party API. Plus 0 - 10%\n",
    "If the third party API requires authentication. Plus 0-10%\n",
    "Hosted online (e.g. Azure, Pythonanywhere) Plus 10%\n",
    "I may award extra marks for very good projects\n",
    "These are only indictive marks, I reserve the right to change marking scheme to suit\n",
    "the type of project it is.\n",
    "To get over 70% your application should be very well laid out, look good and work\n",
    "efficiently and well.\n",
    "Project should be well laid out and easy for me to run.\n",
    "Marks may be deducted for:\n",
    "• Poorly formatted code, that I find hard to read (Do not over comment your\n",
    "code),\n",
    "• If I find it hard to run,\n",
    "• I find it hard to understand your GitHub layout. (a README file is handy)."
   ]
  }
 ],
 "metadata": {
  "kernelspec": {
   "display_name": "Python 3",
   "language": "python",
   "name": "python3"
  },
  "language_info": {
   "codemirror_mode": {
    "name": "ipython",
    "version": 3
   },
   "file_extension": ".py",
   "mimetype": "text/x-python",
   "name": "python",
   "nbconvert_exporter": "python",
   "pygments_lexer": "ipython3",
   "version": "3.11.4"
  },
  "orig_nbformat": 4
 },
 "nbformat": 4,
 "nbformat_minor": 2
}
